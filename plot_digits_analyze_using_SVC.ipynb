{
 "cells": [
  {
   "cell_type": "code",
   "execution_count": 45,
   "metadata": {},
   "outputs": [],
   "source": [
    "import matplotlib.pyplot as plt\n",
    "from sklearn import datasets, svm, metrics\n",
    "from sklearn.naive_bayes import GaussianNB\n",
    "import numpy as np"
   ]
  },
  {
   "cell_type": "code",
   "execution_count": 46,
   "metadata": {
    "collapsed": true
   },
   "outputs": [],
   "source": [
    "digits = datasets.load_digits()"
   ]
  },
  {
   "cell_type": "code",
   "execution_count": 47,
   "metadata": {},
   "outputs": [],
   "source": [
    "images_and_labels = list(zip(digits.images, digits.target))"
   ]
  },
  {
   "cell_type": "code",
   "execution_count": 48,
   "metadata": {
    "collapsed": true
   },
   "outputs": [],
   "source": [
    "for index, (image, label) in enumerate(images_and_labels[:4]):\n",
    "    plt.subplot(2,4, index+1)\n",
    "    plt.axis('off')\n",
    "    plt.imshow(image, cmap=plt.cm.gray_r, interpolation='nearest')\n",
    "    plt.title('Training: %i' % label)"
   ]
  },
  {
   "cell_type": "code",
   "execution_count": 49,
   "metadata": {},
   "outputs": [],
   "source": [
    "# To apply the classifier on this data, we need to flatten the image, to turn the data in a (samples, feature) matrix\n",
    "n_samples = len(digits.images)\n",
    "data = digits.images.reshape((n_samples, -1))\n"
   ]
  },
  {
   "cell_type": "code",
   "execution_count": 50,
   "metadata": {},
   "outputs": [],
   "source": [
    "data.shape\n",
    "clf = svm.SVC(gamma=0.001, C=10, kernel='rbf')\n",
    "clfnb = GaussianNB()"
   ]
  },
  {
   "cell_type": "code",
   "execution_count": 51,
   "metadata": {},
   "outputs": [
    {
     "data": {
      "text/plain": [
       "GaussianNB(priors=None)"
      ]
     },
     "execution_count": 51,
     "metadata": {},
     "output_type": "execute_result"
    }
   ],
   "source": [
    "# We learn the digits on the first half of the digits\n",
    "# clf.fit(X,y) , X is the features and y is the labels\n",
    "clf.fit(data[:n_samples // 2],digits.target[:n_samples // 2])\n",
    "clfnb.fit(data[:n_samples // 2],digits.target[:n_samples // 2])"
   ]
  },
  {
   "cell_type": "code",
   "execution_count": 52,
   "metadata": {
    "collapsed": true
   },
   "outputs": [],
   "source": [
    "# Now predict the value of the digits with the second half\n",
    "expected = digits.target[n_samples // 2:]\n",
    "predicted = clf.predict(data[n_samples // 2:])"
   ]
  },
  {
   "cell_type": "code",
   "execution_count": 54,
   "metadata": {},
   "outputs": [],
   "source": [
    "# Now predict the values of the digits with the NB Classifier\n",
    "predictedNB = clfnb.predict(data[n_samples//2:])"
   ]
  },
  {
   "cell_type": "code",
   "execution_count": 55,
   "metadata": {},
   "outputs": [
    {
     "name": "stdout",
     "output_type": "stream",
     "text": [
      "report SVC(C=10, cache_size=200, class_weight=None, coef0=0.0,\n",
      "  decision_function_shape=None, degree=3, gamma=0.001, kernel='rbf',\n",
      "  max_iter=-1, probability=False, random_state=None, shrinking=True,\n",
      "  tol=0.001, verbose=False): \n",
      "             precision    recall  f1-score   support\n",
      "\n",
      "          0       1.00      0.99      0.99        88\n",
      "          1       0.99      0.96      0.97        91\n",
      "          2       0.99      0.99      0.99        86\n",
      "          3       0.98      0.90      0.94        91\n",
      "          4       0.99      0.96      0.97        92\n",
      "          5       0.95      0.96      0.95        91\n",
      "          6       0.99      0.99      0.99        91\n",
      "          7       0.98      0.99      0.98        89\n",
      "          8       0.94      1.00      0.97        88\n",
      "          9       0.92      0.98      0.95        92\n",
      "\n",
      "avg / total       0.97      0.97      0.97       899\n",
      "\n",
      "\n",
      "Confusion matrix: \n",
      "[[87  0  0  0  1  0  0  0  0  0]\n",
      " [ 0 87  1  0  0  0  0  0  2  1]\n",
      " [ 0  0 85  1  0  0  0  0  0  0]\n",
      " [ 0  0  0 82  0  3  0  2  4  0]\n",
      " [ 0  0  0  0 88  0  0  0  0  4]\n",
      " [ 0  0  0  0  0 87  1  0  0  3]\n",
      " [ 0  1  0  0  0  0 90  0  0  0]\n",
      " [ 0  0  0  0  0  1  0 88  0  0]\n",
      " [ 0  0  0  0  0  0  0  0 88  0]\n",
      " [ 0  0  0  1  0  1  0  0  0 90]]\n"
     ]
    }
   ],
   "source": [
    "print(\"report %s: \\n%s\\n\" %(clf, metrics.classification_report(expected, predicted)))\n",
    "print(\"Confusion matrix: \\n%s\"%  metrics.confusion_matrix(expected, predicted))"
   ]
  },
  {
   "cell_type": "code",
   "execution_count": 56,
   "metadata": {},
   "outputs": [
    {
     "name": "stdout",
     "output_type": "stream",
     "text": [
      "report NB GaussianNB(priors=None): \n",
      "             precision    recall  f1-score   support\n",
      "\n",
      "          0       0.98      0.95      0.97        88\n",
      "          1       0.81      0.74      0.77        91\n",
      "          2       0.87      0.84      0.85        86\n",
      "          3       0.88      0.79      0.83        91\n",
      "          4       1.00      0.73      0.84        92\n",
      "          5       0.70      0.81      0.76        91\n",
      "          6       0.96      0.99      0.97        91\n",
      "          7       0.65      0.81      0.72        89\n",
      "          8       0.61      0.76      0.68        88\n",
      "          9       0.77      0.66      0.71        92\n",
      "\n",
      "avg / total       0.82      0.81      0.81       899\n",
      "\n",
      "\n",
      "Confusion matrix Naive Bayes: \n",
      "[[84  0  0  0  0  2  0  0  1  1]\n",
      " [ 0 67  2  0  0  0  0  2 13  7]\n",
      " [ 0  8 72  0  0  1  2  0  3  0]\n",
      " [ 0  2  2 72  0  2  0  2  9  2]\n",
      " [ 1  0  0  0 67  0  0 22  1  1]\n",
      " [ 0  2  0  4  0 74  1  3  2  5]\n",
      " [ 0  1  0  0  0  0 90  0  0  0]\n",
      " [ 0  0  2  0  0 12  0 72  2  1]\n",
      " [ 0  2  5  0  0  9  0  4 67  1]\n",
      " [ 1  1  0  6  0  5  1  6 11 61]]\n"
     ]
    }
   ],
   "source": [
    "# NB\n",
    "print(\"report NB %s: \\n%s\\n\" %(clfnb, metrics.classification_report(expected, predictedNB)))\n",
    "print(\"Confusion matrix Naive Bayes: \\n%s\"%  metrics.confusion_matrix(expected, predictedNB))"
   ]
  },
  {
   "cell_type": "code",
   "execution_count": 63,
   "metadata": {},
   "outputs": [],
   "source": [
    "images_and_predictions = list(zip(digits.images[n_samples // 2:], predicted))\n",
    "for index, (image,prediction) in enumerate(images_and_predictions[:4]):\n",
    "    plt.subplot(2,4, index+5)\n",
    "    plt.axis('off')\n",
    "    plt.imshow(image, cmap=plt.cm.gray_r, interpolation='nearest')\n",
    "    plt.title('Prediction: %i' % prediction)"
   ]
  },
  {
   "cell_type": "code",
   "execution_count": 64,
   "metadata": {},
   "outputs": [
    {
     "data": {
      "image/png": "[encoded data removed]",
      "text/plain": [
       "<matplotlib.figure.Figure at 0x261ad727dd8>"
      ]
     },
     "metadata": {},
     "output_type": "display_data"
    }
   ],
   "source": [
    "plt.show()"
   ]
  },
  {
   "cell_type": "code",
   "execution_count": 65,
   "metadata": {},
   "outputs": [
    {
     "data": {
      "image/png": "[encoded data removed]",
      "text/plain": [
       "<matplotlib.figure.Figure at 0x261af5cffd0>"
      ]
     },
     "metadata": {},
     "output_type": "display_data"
    },
    {
     "data": {
      "image/png": "[encoded data removed]",
      "text/plain": [
       "<matplotlib.figure.Figure at 0x261af610400>"
      ]
     },
     "metadata": {},
     "output_type": "display_data"
    },
    {
     "data": {
      "image/png": "[encoded data removed]",
      "text/plain": [
       "<matplotlib.figure.Figure at 0x261af5cf898>"
      ]
     },
     "metadata": {},
     "output_type": "display_data"
    },
    {
     "data": {
      "image/png": "[encoded data removed]",
      "text/plain": [
       "<matplotlib.figure.Figure at 0x261ade24f98>"
      ]
     },
     "metadata": {},
     "output_type": "display_data"
    }
   ],
   "source": [
    "images_and_predictionNB = list(zip(digits.images[n_samples //2:],predictedNB))\n",
    "for index, (image, predictionnb) in enumerate(images_and_predictionNB[:4]):\n",
    "    plt.subplot(2,4,index+5)\n",
    "    plt.axis('off')\n",
    "    plt.imshow(image, cmap=plt.cm.gray_r, interpolation='nearest')\n",
    "    plt.title('Preduction %i' % prediction)\n",
    "    plt.show()"
   ]
  },
  {
   "cell_type": "code",
   "execution_count": null,
   "metadata": {
    "collapsed": true
   },
   "outputs": [],
   "source": []
  }
 ],
 "metadata": {
  "kernelspec": {
   "display_name": "Python 3",
   "language": "python",
   "name": "python3"
  },
  "language_info": {
   "codemirror_mode": {
    "name": "ipython",
    "version": 3
   },
   "file_extension": ".py",
   "mimetype": "text/x-python",
   "name": "python",
   "nbconvert_exporter": "python",
   "pygments_lexer": "ipython3",
   "version": "3.6.0"
  }
 },
 "nbformat": 4,
 "nbformat_minor": 2
}
